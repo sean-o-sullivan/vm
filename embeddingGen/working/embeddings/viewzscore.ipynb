{
 "cells": [
  {
   "cell_type": "code",
   "execution_count": null,
   "metadata": {},
   "outputs": [],
   "source": [
    "import pandas as pd\n",
    "import matplotlib.pyplot as plt\n",
    "import numpy as np\n",
    "\n",
    "file1 = pd.read_csv('ABB_30_embeddings.csv')\n",
    "file2 = pd.read_csv('ABB_70_embeddings.csv')\n",
    "file3 = pd.read_csv('AGG_30_embeddings.csv')\n",
    "file4 = pd.read_csv('AGG_70_embeddings.csv')\n",
    "combined_df = pd.concat([file1, file2, file3, file4])\n",
    "numeric_columns = combined_df.select_dtypes(include='number').columns\n",
    "\n",
    "filtered_columns = [col for col in numeric_columns if not np.all(combined_df[col] == 0)]\n",
    "\n",
    "zscore_df = combined_df.copy()\n",
    "zscore_df[filtered_columns] = zscore_df[filtered_columns].apply(lambda x: (x - x.mean()) / x.std(), axis=0)\n",
    "num_plots = len(filtered_columns)\n",
    "cols = 3 \n",
    "rows = (num_plots // cols) + int(num_plots % cols > 0)\n",
    "\n",
    "plt.figure(figsize=(15, 5 * rows))\n",
    "\n",
    "for i, col in enumerate(filtered_columns, start=1):\n",
    "    plt.subplot(rows, cols, i)\n",
    "    plt.hist(zscore_df[col], bins=50, alpha=0.75, edgecolor='black')\n",
    "    plt.title(f'Z-Score Distribution for {col}')\n",
    "    plt.xlabel('Z-Score Value')\n",
    "    plt.ylabel('Frequency')\n",
    "    plt.grid(True)\n",
    "\n",
    "plt.tight_layout()\n",
    "plt.savefig('zscore_distributions.png', dpi=300, bbox_inches='tight')\n",
    "plt.show()\n"
   ]
  }
 ],
 "metadata": {
  "kernelspec": {
   "display_name": "vm2",
   "language": "python",
   "name": "python3"
  },
  "language_info": {
   "codemirror_mode": {
    "name": "ipython",
    "version": 3
   },
   "file_extension": ".py",
   "mimetype": "text/x-python",
   "name": "python",
   "nbconvert_exporter": "python",
   "pygments_lexer": "ipython3",
   "version": "3.10.12"
  }
 },
 "nbformat": 4,
 "nbformat_minor": 2
}
