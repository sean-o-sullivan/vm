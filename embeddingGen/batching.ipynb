{
 "cells": [
  {
   "cell_type": "code",
   "execution_count": null,
   "metadata": {},
   "outputs": [],
   "source": [
    "export OPENAI_API_KEY=':)'"
   ]
  },
  {
   "cell_type": "code",
   "execution_count": null,
   "metadata": {},
   "outputs": [],
   "source": [
    "import os \n",
    "from openai import OpenAI\n",
    "\n",
    "\n",
    "os.environ[\"OPENAI_API_KEY\"] = \":)\"\n",
    "OpenAI.api_key = os.getenv(\"OPENAI_API_KEY\")\n",
    "\n",
    "client = OpenAI()\n",
    "\n",
    "\n",
    "batch_input_file = client.files.create(\n",
    "  file=open(\"batch_dataset_classification_5K.jsonl\", \"rb\"),\n",
    "  purpose=\"batch\"\n",
    ")\n"
   ]
  },
  {
   "cell_type": "code",
   "execution_count": 7,
   "metadata": {},
   "outputs": [
    {
     "data": {
      "text/plain": [
       "Batch(id='batch_lHHPIm7tJR9SBgIy8adyXPiW', completion_window='24h', created_at=1725113037, endpoint='/v1/chat/completions', input_file_id='file-ANnV8EaMWye4NZbAn7uhUPqa', object='batch', status='validating', cancelled_at=None, cancelling_at=None, completed_at=None, error_file_id=None, errors=None, expired_at=None, expires_at=1725199437, failed_at=None, finalizing_at=None, in_progress_at=None, metadata={'description': 'dataset classification of books from project gutenberg to asses which are suitable for use in authorship verification research.'}, output_file_id=None, request_counts=BatchRequestCounts(completed=0, failed=0, total=0))"
      ]
     },
     "execution_count": 7,
     "metadata": {},
     "output_type": "execute_result"
    }
   ],
   "source": [
    "batch_input_file_id = batch_input_file.id\n",
    "\n",
    "client.batches.create(\n",
    "    input_file_id=batch_input_file_id,\n",
    "    endpoint=\"/v1/chat/completions\",\n",
    "    completion_window=\"24h\",\n",
    "    metadata={\n",
    "      \"description\": \"dataset classification of books from project gutenberg to asses which are suitable for use in authorship verification research.\"\n",
    "    }\n",
    ")"
   ]
  },
  {
   "cell_type": "markdown",
   "metadata": {},
   "source": [
    "Batch(id='batch_mrVWYYvkQTvykelqxFGaeyGy', completion_window='24h', created_at=1724803554, endpoint='/v1/chat/completions', input_file_id='file-Ac1u0TazAnYnfZ3K5xL5LJSA', object='batch', status='validating', cancelled_at=None, cancelling_at=None, completed_at=None, error_file_id=None, errors=None, expired_at=None, expires_at=1724889954, failed_at=None, finalizing_at=None, in_progress_at=None, metadata={'description': 'dataset classification of books from project gutenberg to asses which are suitable for use in authorship verification research.'}, output_file_id=None, request_counts=BatchRequestCounts(completed=0, failed=0, total=0))"
   ]
  },
  {
   "cell_type": "code",
   "execution_count": 32,
   "metadata": {},
   "outputs": [
    {
     "data": {
      "text/plain": [
       "Batch(id='batch_mrVWYYvkQTvykelqxFGaeyGy', completion_window='24h', created_at=1724803554, endpoint='/v1/chat/completions', input_file_id='file-Ac1u0TazAnYnfZ3K5xL5LJSA', object='batch', status='completed', cancelled_at=None, cancelling_at=None, completed_at=1724813081, error_file_id=None, errors=None, expired_at=None, expires_at=1724889954, failed_at=None, finalizing_at=1724809475, in_progress_at=1724803576, metadata={'description': 'dataset classification of books from project gutenberg to asses which are suitable for use in authorship verification research.'}, output_file_id='file-taG43Un2WibeJjofHgolhyQ8', request_counts=BatchRequestCounts(completed=48279, failed=0, total=48279))"
      ]
     },
     "execution_count": 32,
     "metadata": {},
     "output_type": "execute_result"
    }
   ],
   "source": [
    "client.batches.retrieve(\"batch_mrVWYYvkQTvykelqxFGaeyGy\")"
   ]
  },
  {
   "cell_type": "code",
   "execution_count": 35,
   "metadata": {},
   "outputs": [
    {
     "data": {
      "text/plain": [
       "Batch(id='batch_lHHPIm7tJR9SBgIy8adyXPiW', completion_window='24h', created_at=1725113037, endpoint='/v1/chat/completions', input_file_id='file-ANnV8EaMWye4NZbAn7uhUPqa', object='batch', status='completed', cancelled_at=None, cancelling_at=None, completed_at=1725113708, error_file_id=None, errors=None, expired_at=None, expires_at=1725199437, failed_at=None, finalizing_at=1725113507, in_progress_at=1725113041, metadata={'description': 'dataset classification of books from project gutenberg to asses which are suitable for use in authorship verification research.'}, output_file_id='file-cAQYAsuyGPC79KV1EVRBLBw8', request_counts=BatchRequestCounts(completed=5000, failed=0, total=5000))"
      ]
     },
     "execution_count": 35,
     "metadata": {},
     "output_type": "execute_result"
    }
   ],
   "source": [
    "client.batches.retrieve(\"batch_lHHPIm7tJR9SBgIy8adyXPiW\")"
   ]
  },
  {
   "cell_type": "code",
   "execution_count": null,
   "metadata": {},
   "outputs": [],
   "source": [
    "from openai import OpenAI\n",
    "client = OpenAI()\n",
    "\n",
    "\n",
    "result = client.files.content(\"file-cAQYAsuyGPC79KV1EVRBLBw8\").content"
   ]
  },
  {
   "cell_type": "code",
   "execution_count": 37,
   "metadata": {},
   "outputs": [
    {
     "name": "stdout",
     "output_type": "stream",
     "text": [
      "<class 'bytes'>\n"
     ]
    }
   ],
   "source": [
    "print(type(result))"
   ]
  },
  {
   "cell_type": "code",
   "execution_count": 38,
   "metadata": {},
   "outputs": [],
   "source": [
    "result_file_name = \"batch_dataset_classification_output_5K.jsonl\"\n",
    "\n",
    "with open(result_file_name, 'wb') as file:\n",
    "    file.write(result)"
   ]
  },
  {
   "cell_type": "markdown",
   "metadata": {},
   "source": [
    "Batch(id='batch_mrVWYYvkQTvykelqxFGaeyGy', completion_window='24h', created_at=1724803554, endpoint='/v1/chat/completions', input_file_id='file-Ac1u0TazAnYnfZ3K5xL5LJSA', object='batch', status='in_progress', cancelled_at=None, cancelling_at=None, completed_at=None, error_file_id=None, errors=None, expired_at=None, expires_at=1724889954, failed_at=None, finalizing_at=None, in_progress_at=1724803576, metadata={'description': 'dataset classification of books from project gutenberg to asses which are suitable for use in authorship verification research.'}, output_file_id=None, request_counts=BatchRequestCounts(completed=473, failed=0, total=48279))  @ 01:08 AM on Wednesday the 28th "
   ]
  },
  {
   "cell_type": "markdown",
   "metadata": {},
   "source": [
    "Batch(id='batch_mrVWYYvkQTvykelqxFGaeyGy', completion_window='24h', created_at=1724803554, endpoint='/v1/chat/completions', input_file_id='file-Ac1u0TazAnYnfZ3K5xL5LJSA', object='batch', status='in_progress', cancelled_at=None, cancelling_at=None, completed_at=None, error_file_id=None, errors=None, expired_at=None, expires_at=1724889954, failed_at=None, finalizing_at=None, in_progress_at=1724803576, metadata={'description': 'dataset classification of books from project gutenberg to asses which are suitable for use in authorship verification research.'}, output_file_id=None, request_counts=BatchRequestCounts(completed=956, failed=0, total=48279))   @ 01:09AM on Wednesday the 28th"
   ]
  },
  {
   "cell_type": "markdown",
   "metadata": {},
   "source": [
    "Batch(id='batch_mrVWYYvkQTvykelqxFGaeyGy', completion_window='24h', created_at=1724803554, endpoint='/v1/chat/completions', input_file_id='file-Ac1u0TazAnYnfZ3K5xL5LJSA', object='batch', status='in_progress', cancelled_at=None, cancelling_at=None, completed_at=None, error_file_id=None, errors=None, expired_at=None, expires_at=1724889954, failed_at=None, finalizing_at=None, in_progress_at=1724803576, metadata={'description': 'dataset classification of books from project gutenberg to asses which are suitable for use in authorship verification research.'}, output_file_id=None, request_counts=BatchRequestCounts(completed=1923, failed=0, total=48279))"
   ]
  },
  {
   "cell_type": "markdown",
   "metadata": {},
   "source": [
    "Batch(id='batch_mrVWYYvkQTvykelqxFGaeyGy', completion_window='24h', created_at=1724803554, endpoint='/v1/chat/completions', input_file_id='file-Ac1u0TazAnYnfZ3K5xL5LJSA', object='batch', status='in_progress', cancelled_at=None, cancelling_at=None, completed_at=None, error_file_id=None, errors=None, expired_at=None, expires_at=1724889954, failed_at=None, finalizing_at=None, in_progress_at=1724803576, metadata={'description': 'dataset classification of books from project gutenberg to asses which are suitable for use in authorship verification research.'}, output_file_id=None, request_counts=BatchRequestCounts(completed=3367, failed=0, total=48279))"
   ]
  },
  {
   "cell_type": "markdown",
   "metadata": {},
   "source": [
    "Batch(id='batch_mrVWYYvkQTvykelqxFGaeyGy', completion_window='24h', created_at=1724803554, endpoint='/v1/chat/completions', input_file_id='file-Ac1u0TazAnYnfZ3K5xL5LJSA', object='batch', status='in_progress', cancelled_at=None, cancelling_at=None, completed_at=None, error_file_id=None, errors=None, expired_at=None, expires_at=1724889954, failed_at=None, finalizing_at=None, in_progress_at=1724803576, metadata={'description': 'dataset classification of books from project gutenberg to asses which are suitable for use in authorship verification research.'}, output_file_id=None, request_counts=BatchRequestCounts(completed=3850, failed=0, total=48279))  @ 1:15"
   ]
  },
  {
   "cell_type": "markdown",
   "metadata": {},
   "source": [
    "Batch(id='batch_mrVWYYvkQTvykelqxFGaeyGy', completion_window='24h', created_at=1724803554, endpoint='/v1/chat/completions', input_file_id='file-Ac1u0TazAnYnfZ3K5xL5LJSA', object='batch', status='in_progress', cancelled_at=None, cancelling_at=None, completed_at=None, error_file_id=None, errors=None, expired_at=None, expires_at=1724889954, failed_at=None, finalizing_at=None, in_progress_at=1724803576, metadata={'description': 'dataset classification of books from project gutenberg to asses which are suitable for use in authorship verification research.'}, output_file_id=None, request_counts=BatchRequestCounts(completed=5775, failed=0, total=48279)) @1:20"
   ]
  },
  {
   "cell_type": "markdown",
   "metadata": {},
   "source": [
    "Batch(id='batch_mrVWYYvkQTvykelqxFGaeyGy', completion_window='24h', created_at=1724803554, endpoint='/v1/chat/completions', input_file_id='file-Ac1u0TazAnYnfZ3K5xL5LJSA', object='batch', status='in_progress', cancelled_at=None, cancelling_at=None, completed_at=None, error_file_id=None, errors=None, expired_at=None, expires_at=1724889954, failed_at=None, finalizing_at=None, in_progress_at=1724803576, metadata={'description': 'dataset classification of books from project gutenberg to asses which are suitable for use in authorship verification research.'}, output_file_id=None, request_counts=BatchRequestCounts(completed=8675, failed=0, total=48279))  @1:25"
   ]
  },
  {
   "cell_type": "markdown",
   "metadata": {},
   "source": [
    "Batch(id='batch_mrVWYYvkQTvykelqxFGaeyGy', completion_window='24h', created_at=1724803554, endpoint='/v1/chat/completions', input_file_id='file-Ac1u0TazAnYnfZ3K5xL5LJSA', object='batch', status='in_progress', cancelled_at=None, cancelling_at=None, completed_at=None, error_file_id=None, errors=None, expired_at=None, expires_at=1724889954, failed_at=None, finalizing_at=None, in_progress_at=1724803576, metadata={'description': 'dataset classification of books from project gutenberg to asses which are suitable for use in authorship verification research.'}, output_file_id=None, request_counts=BatchRequestCounts(completed=12039, failed=0, total=48279))  @ 01:32"
   ]
  },
  {
   "cell_type": "markdown",
   "metadata": {},
   "source": [
    "Batch(id='batch_mrVWYYvkQTvykelqxFGaeyGy', completion_window='24h', created_at=1724803554, endpoint='/v1/chat/completions', input_file_id='file-Ac1u0TazAnYnfZ3K5xL5LJSA', object='batch', status='in_progress', cancelled_at=None, cancelling_at=None, completed_at=None, error_file_id=None, errors=None, expired_at=None, expires_at=1724889954, failed_at=None, finalizing_at=None, in_progress_at=1724803576, metadata={'description': 'dataset classification of books from project gutenberg to asses which are suitable for use in authorship verification research.'}, output_file_id=None, request_counts=BatchRequestCounts(completed=17350, failed=0, total=48279)) @1:42"
   ]
  },
  {
   "cell_type": "markdown",
   "metadata": {},
   "source": [
    "Batch(id='batch_mrVWYYvkQTvykelqxFGaeyGy', completion_window='24h', created_at=1724803554, endpoint='/v1/chat/completions', input_file_id='file-Ac1u0TazAnYnfZ3K5xL5LJSA', object='batch', status='in_progress', cancelled_at=None, cancelling_at=None, completed_at=None, error_file_id=None, errors=None, expired_at=None, expires_at=1724889954, failed_at=None, finalizing_at=None, in_progress_at=1724803576, metadata={'description': 'dataset classification of books from project gutenberg to asses which are suitable for use in authorship verification research.'}, output_file_id=None, request_counts=BatchRequestCounts(completed=20723, failed=0, total=48279)) @1:48"
   ]
  },
  {
   "cell_type": "markdown",
   "metadata": {},
   "source": [
    "Batch(id='batch_mrVWYYvkQTvykelqxFGaeyGy', completion_window='24h', created_at=1724803554, endpoint='/v1/chat/completions', input_file_id='file-Ac1u0TazAnYnfZ3K5xL5LJSA', object='batch', status='in_progress', cancelled_at=None, cancelling_at=None, completed_at=None, error_file_id=None, errors=None, expired_at=None, expires_at=1724889954, failed_at=None, finalizing_at=None, in_progress_at=1724803576, metadata={'description': 'dataset classification of books from project gutenberg to asses which are suitable for use in authorship verification research.'}, output_file_id=None, request_counts=BatchRequestCounts(completed=25059, failed=0, total=48279)) @1:57"
   ]
  },
  {
   "cell_type": "markdown",
   "metadata": {},
   "source": [
    "Batch(id='batch_mrVWYYvkQTvykelqxFGaeyGy', completion_window='24h', created_at=1724803554, endpoint='/v1/chat/completions', input_file_id='file-Ac1u0TazAnYnfZ3K5xL5LJSA', object='batch', status='in_progress', cancelled_at=None, cancelling_at=None, completed_at=None, error_file_id=None, errors=None, expired_at=None, expires_at=1724889954, failed_at=None, finalizing_at=None, in_progress_at=1724803576, metadata={'description': 'dataset classification of books from project gutenberg to asses which are suitable for use in authorship verification research.'}, output_file_id=None, request_counts=BatchRequestCounts(completed=28916, failed=0, total=48279)) @2:05"
   ]
  },
  {
   "cell_type": "markdown",
   "metadata": {},
   "source": [
    "Batch(id='batch_mrVWYYvkQTvykelqxFGaeyGy', completion_window='24h', created_at=1724803554, endpoint='/v1/chat/completions', input_file_id='file-Ac1u0TazAnYnfZ3K5xL5LJSA', object='batch', status='in_progress', cancelled_at=None, cancelling_at=None, completed_at=None, error_file_id=None, errors=None, expired_at=None, expires_at=1724889954, failed_at=None, finalizing_at=None, in_progress_at=1724803576, metadata={'description': 'dataset classification of books from project gutenberg to asses which are suitable for use in authorship verification research.'}, output_file_id=None, request_counts=BatchRequestCounts(completed=32294, failed=0, total=48279))  @2:11"
   ]
  },
  {
   "cell_type": "markdown",
   "metadata": {},
   "source": [
    "Batch(id='batch_mrVWYYvkQTvykelqxFGaeyGy', completion_window='24h', created_at=1724803554, endpoint='/v1/chat/completions', input_file_id='file-Ac1u0TazAnYnfZ3K5xL5LJSA', object='batch', status='in_progress', cancelled_at=None, cancelling_at=None, completed_at=None, error_file_id=None, errors=None, expired_at=None, expires_at=1724889954, failed_at=None, finalizing_at=None, in_progress_at=1724803576, metadata={'description': 'dataset classification of books from project gutenberg to asses which are suitable for use in authorship verification research.'}, output_file_id=None, request_counts=BatchRequestCounts(completed=33259, failed=0, total=48279))  @-02:13"
   ]
  },
  {
   "cell_type": "markdown",
   "metadata": {},
   "source": [
    "Batch(id='batch_mrVWYYvkQTvykelqxFGaeyGy', completion_window='24h', created_at=1724803554, endpoint='/v1/chat/completions', input_file_id='file-Ac1u0TazAnYnfZ3K5xL5LJSA', object='batch', status='in_progress', cancelled_at=None, cancelling_at=None, completed_at=None, error_file_id=None, errors=None, expired_at=None, expires_at=1724889954, failed_at=None, finalizing_at=None, in_progress_at=1724803576, metadata={'description': 'dataset classification of books from project gutenberg to asses which are suitable for use in authorship verification research.'}, output_file_id=None, request_counts=BatchRequestCounts(completed=41934, failed=0, total=48279)) @ 2:33"
   ]
  },
  {
   "cell_type": "markdown",
   "metadata": {},
   "source": [
    "going to sleep now. meeting the 'Taois tomorrow."
   ]
  }
 ],
 "metadata": {
  "kernelspec": {
   "display_name": "vm2",
   "language": "python",
   "name": "python3"
  },
  "language_info": {
   "codemirror_mode": {
    "name": "ipython",
    "version": 3
   },
   "file_extension": ".py",
   "mimetype": "text/x-python",
   "name": "python",
   "nbconvert_exporter": "python",
   "pygments_lexer": "ipython3",
   "version": "3.10.12"
  }
 },
 "nbformat": 4,
 "nbformat_minor": 2
}
